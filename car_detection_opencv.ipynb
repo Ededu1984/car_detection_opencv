{
 "cells": [
  {
   "cell_type": "markdown",
   "metadata": {},
   "source": [
    "# Car detection\n",
    "### Author: Edson da Costa Eduardo\n",
    "\n",
    "\n",
    "- Create an application - Digital Image Processing and choose a region of the image.\n",
    "\n",
    "- Use the OpenCV and Numpy to classify if the object is a car or not\n",
    "and use the classic vision to classify a car in the area.\n"
   ]
  },
  {
   "cell_type": "code",
   "execution_count": 1,
   "metadata": {},
   "outputs": [],
   "source": [
    "import cv2\n",
    "import numpy as np "
   ]
  },
  {
   "cell_type": "code",
   "execution_count": 2,
   "metadata": {},
   "outputs": [
    {
     "output_type": "execute_result",
     "data": {
      "text/plain": [
       "'/home/edson/car_detection/EX_3'"
      ]
     },
     "metadata": {},
     "execution_count": 2
    }
   ],
   "source": [
    "pwd"
   ]
  },
  {
   "cell_type": "code",
   "execution_count": 3,
   "metadata": {},
   "outputs": [],
   "source": [
    "cap = cv2.VideoCapture('Video1.mp4')\n",
    "connected, video = cap.read()"
   ]
  },
  {
   "cell_type": "code",
   "execution_count": 4,
   "metadata": {},
   "outputs": [
    {
     "output_type": "execute_result",
     "data": {
      "text/plain": [
       "(1280, 720)"
      ]
     },
     "metadata": {},
     "execution_count": 4
    }
   ],
   "source": [
    "video_width = video.shape[1]\n",
    "video_height = video.shape[0]\n",
    "video_width, video_height"
   ]
  },
  {
   "cell_type": "code",
   "execution_count": 5,
   "metadata": {},
   "outputs": [],
   "source": [
    "# Object detection from stable camera\n",
    "\n",
    "object_detector= cv2.createBackgroundSubtractorMOG2(history=100, varThreshold=20)"
   ]
  },
  {
   "cell_type": "code",
   "execution_count": 6,
   "metadata": {},
   "outputs": [],
   "source": [
    "minimum_width = 65\n",
    "minimum_height = 65\n",
    "\n",
    "roi_top = 300\n",
    "roi_bottom = 700\n",
    "roi_right = 650\n",
    "roi_left = 1050"
   ]
  },
  {
   "cell_type": "code",
   "execution_count": 7,
   "metadata": {},
   "outputs": [],
   "source": [
    "name_file = 'result.avi'\n",
    "fourcc = cv2.VideoWriter_fourcc(*'XVID') # MP4V"
   ]
  },
  {
   "cell_type": "code",
   "execution_count": 8,
   "metadata": {},
   "outputs": [],
   "source": [
    "fps = 30"
   ]
  },
  {
   "cell_type": "code",
   "execution_count": 9,
   "metadata": {},
   "outputs": [],
   "source": [
    "video_output = cv2.VideoWriter(name_file, fourcc, fps, (video_width, video_height))"
   ]
  },
  {
   "cell_type": "code",
   "execution_count": 10,
   "metadata": {},
   "outputs": [
    {
     "output_type": "error",
     "ename": "TypeError",
     "evalue": "'NoneType' object is not subscriptable",
     "traceback": [
      "\u001b[0;31m---------------------------------------------------------------------------\u001b[0m",
      "\u001b[0;31mTypeError\u001b[0m                                 Traceback (most recent call last)",
      "\u001b[0;32m<ipython-input-10-0c0b374acd29>\u001b[0m in \u001b[0;36m<module>\u001b[0;34m\u001b[0m\n\u001b[1;32m      4\u001b[0m \u001b[0;34m\u001b[0m\u001b[0m\n\u001b[1;32m      5\u001b[0m     \u001b[0;31m# Extract region of interest\u001b[0m\u001b[0;34m\u001b[0m\u001b[0;34m\u001b[0m\u001b[0m\n\u001b[0;32m----> 6\u001b[0;31m     \u001b[0mroi\u001b[0m \u001b[0;34m=\u001b[0m \u001b[0mframe\u001b[0m\u001b[0;34m[\u001b[0m\u001b[0mroi_top\u001b[0m\u001b[0;34m:\u001b[0m\u001b[0mroi_bottom\u001b[0m\u001b[0;34m,\u001b[0m \u001b[0mroi_right\u001b[0m\u001b[0;34m:\u001b[0m\u001b[0mroi_left\u001b[0m\u001b[0;34m]\u001b[0m\u001b[0;34m\u001b[0m\u001b[0m\n\u001b[0m\u001b[1;32m      7\u001b[0m \u001b[0;34m\u001b[0m\u001b[0m\n\u001b[1;32m      8\u001b[0m \u001b[0;34m\u001b[0m\u001b[0m\n",
      "\u001b[0;31mTypeError\u001b[0m: 'NoneType' object is not subscriptable"
     ]
    }
   ],
   "source": [
    "while True:\n",
    "    \n",
    "    ret, frame = cap.read()\n",
    "\n",
    "    # Extract region of interest\n",
    "    roi = frame[roi_top:roi_bottom, roi_right:roi_left]\n",
    "\n",
    "\n",
    "    # Apply grayscale and blur to ROI\n",
    "    gray = cv2.cvtColor(roi, cv2.COLOR_BGR2GRAY)\n",
    "    gray = cv2.GaussianBlur(gray, (7, 7), 0)\n",
    "\n",
    "\n",
    "    # Object detection\n",
    "    mask = object_detector.apply(gray)\n",
    "    _,mask = cv2.threshold(mask, 254, 255, cv2.THRESH_BINARY)\n",
    "\n",
    "\n",
    "    contours, img = cv2.findContours(mask, cv2.RETR_TREE, cv2.CHAIN_APPROX_SIMPLE)\n",
    "\n",
    "\n",
    "\n",
    "    for i in contours:\n",
    "        \n",
    "        # Calculate area and remove small elements\n",
    "        area = cv2.contourArea(i)\n",
    "\n",
    "  #      if area>80:\n",
    "            #cv2.drawContours(roi, [i], -1, (0, 255, 0), 2)\n",
    "        x, y, w, h = cv2.boundingRect(i)\n",
    "\n",
    "        validate_contour = (w >= minimum_width) and (h >= minimum_height)\n",
    "        if not validate_contour:\n",
    "            continue\n",
    "\n",
    "        cv2.rectangle(roi, (x,y), (x+w, y+h), (25, 255, 25), 3)\n",
    "\n",
    "\n",
    "    cv2.putText(frame, 'Cars on the third land', (250,70), cv2.FONT_HERSHEY_SIMPLEX, 2, (255,0,0), 8)\n",
    "\n",
    "    # Draw ROI Rectangle on frame copy\n",
    "    cv2.rectangle(frame, (roi_left, roi_top), (roi_right, roi_bottom), (0,0,255), 5)\n",
    "\n",
    "\n",
    "\n",
    "    #cv2.imshow('ROI', roi)\n",
    "    #cv2.imshow('Mask', mask)\n",
    "    cv2.imshow('Frame', frame)\n",
    "\n",
    "    \n",
    "    video_output.write(frame)\n",
    "    \n",
    "\n",
    "    key = cv2.waitKey(30)\n",
    "    if key == 27:\n",
    "        break\n",
    "\n",
    "\n",
    "\n",
    "# Release the camera and destroy all the windows\n",
    "print(\"It's finished!!!\")\n",
    "\n",
    "video_output.release()\n",
    "cv2.destroyAllWindows()"
   ]
  },
  {
   "cell_type": "code",
   "execution_count": null,
   "metadata": {},
   "outputs": [],
   "source": []
  }
 ],
 "metadata": {
  "kernelspec": {
   "name": "python3",
   "display_name": "Python 3.6.6 64-bit ('car_detection')",
   "metadata": {
    "interpreter": {
     "hash": "ff29a0dac0a423eef90d752945458e59ef3ff65d03cd2134ff58496fab42fc7a"
    }
   }
  },
  "language_info": {
   "codemirror_mode": {
    "name": "ipython",
    "version": 3
   },
   "file_extension": ".py",
   "mimetype": "text/x-python",
   "name": "python",
   "nbconvert_exporter": "python",
   "pygments_lexer": "ipython3",
   "version": "3.6.6-final"
  }
 },
 "nbformat": 4,
 "nbformat_minor": 2
}